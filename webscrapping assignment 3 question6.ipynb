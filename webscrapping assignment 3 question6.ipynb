{
 "cells": [
  {
   "cell_type": "markdown",
   "metadata": {},
   "source": [
    "Write a program to scrap details of all the funding deals for second quarter (i.e. July 20 – September 20) from trak.in."
   ]
  },
  {
   "cell_type": "code",
   "execution_count": 9,
   "metadata": {},
   "outputs": [],
   "source": [
    "#import all the required libraries\n",
    "import pandas as pd\n",
    "import selenium\n",
    "from selenium import webdriver\n",
    "from selenium.common.exceptions import StaleElementReferenceException, NoSuchElementException\n",
    "import requests\n",
    "\n",
    "from selenium import webdriver\n",
    "from selenium.webdriver.chrome.options import Options\n",
    "from webdriver_manager.chrome import ChromeDriverManager\n",
    "import pandas as pd #for data visualization\n",
    "import selenium # importing selenium\n",
    "from selenium import webdriver#importing webdriver\n",
    "from selenium.common.exceptions import StaleElementReferenceException, NoSuchElementException #importing exception\n"
   ]
  },
  {
   "cell_type": "code",
   "execution_count": 10,
   "metadata": {},
   "outputs": [
    {
     "name": "stderr",
     "output_type": "stream",
     "text": [
      "\n",
      "\n",
      "====== WebDriver manager ======\n",
      "Current google-chrome version is 91.0.4472\n",
      "Get LATEST driver version for 91.0.4472\n",
      "Driver [C:\\Users\\HP\\.wdm\\drivers\\chromedriver\\win32\\91.0.4472.19\\chromedriver.exe] found in cache\n",
      "<ipython-input-10-6f1db6ec915e>:4: DeprecationWarning: use options instead of chrome_options\n",
      "  browser = webdriver.Chrome(ChromeDriverManager().install(),chrome_options=opts)\n"
     ]
    }
   ],
   "source": [
    "import requests\n",
    "from selenium import webdriver\n",
    "opts = Options()\n",
    "browser = webdriver.Chrome(ChromeDriverManager().install(),chrome_options=opts)\n",
    "\n",
    "browser.get(\"https://trak.in/india-startup-funding-investment-2015/\")\n",
    "                  \n",
    "from bs4 import BeautifulSoup\n",
    "import requests\n"
   ]
  },
  {
   "cell_type": "code",
   "execution_count": 15,
   "metadata": {},
   "outputs": [
    {
     "data": {
      "text/plain": [
       "[<selenium.webdriver.remote.webelement.WebElement (session=\"73d10e931a17b5900490fe65c61250ae\", element=\"1064faf3-a9b9-46a7-8071-f653e2b4212e\")>,\n",
       " <selenium.webdriver.remote.webelement.WebElement (session=\"73d10e931a17b5900490fe65c61250ae\", element=\"33a6f673-766d-4f97-8936-cad62b2ec761\")>,\n",
       " <selenium.webdriver.remote.webelement.WebElement (session=\"73d10e931a17b5900490fe65c61250ae\", element=\"28f0fe32-f788-45ab-b4cc-8a379914e163\")>,\n",
       " <selenium.webdriver.remote.webelement.WebElement (session=\"73d10e931a17b5900490fe65c61250ae\", element=\"29a3a4ee-aaa1-4ab4-85b8-1783ffa1d371\")>,\n",
       " <selenium.webdriver.remote.webelement.WebElement (session=\"73d10e931a17b5900490fe65c61250ae\", element=\"bc5f35f8-5ac4-456c-9491-9edaf504da0b\")>,\n",
       " <selenium.webdriver.remote.webelement.WebElement (session=\"73d10e931a17b5900490fe65c61250ae\", element=\"a3ecbc1f-50d0-49cd-aa3f-088266897e45\")>,\n",
       " <selenium.webdriver.remote.webelement.WebElement (session=\"73d10e931a17b5900490fe65c61250ae\", element=\"9b17d3ba-e221-4436-bec3-7305e6a2d028\")>,\n",
       " <selenium.webdriver.remote.webelement.WebElement (session=\"73d10e931a17b5900490fe65c61250ae\", element=\"ed17143e-4d07-4a52-b4ad-7b3ca9c7a5d2\")>,\n",
       " <selenium.webdriver.remote.webelement.WebElement (session=\"73d10e931a17b5900490fe65c61250ae\", element=\"2898ee07-480d-467b-8646-cab9ed16ab19\")>,\n",
       " <selenium.webdriver.remote.webelement.WebElement (session=\"73d10e931a17b5900490fe65c61250ae\", element=\"f4d2e124-e49f-4649-8ff4-4ebc34de992e\")>,\n",
       " <selenium.webdriver.remote.webelement.WebElement (session=\"73d10e931a17b5900490fe65c61250ae\", element=\"95fcf44f-01e2-43c9-97cc-2c77b8704f3b\")>,\n",
       " <selenium.webdriver.remote.webelement.WebElement (session=\"73d10e931a17b5900490fe65c61250ae\", element=\"4488d1fc-93f0-4385-beb3-17a84c21add1\")>,\n",
       " <selenium.webdriver.remote.webelement.WebElement (session=\"73d10e931a17b5900490fe65c61250ae\", element=\"72c762a1-5746-49f9-aab6-036891f93eec\")>,\n",
       " <selenium.webdriver.remote.webelement.WebElement (session=\"73d10e931a17b5900490fe65c61250ae\", element=\"a149fef1-8768-4051-939c-4384c0162993\")>,\n",
       " <selenium.webdriver.remote.webelement.WebElement (session=\"73d10e931a17b5900490fe65c61250ae\", element=\"0b15d5ce-e8e8-4b37-951d-fc5447ed4124\")>,\n",
       " <selenium.webdriver.remote.webelement.WebElement (session=\"73d10e931a17b5900490fe65c61250ae\", element=\"5d16f357-1775-4629-9a61-ddbeb39d7093\")>,\n",
       " <selenium.webdriver.remote.webelement.WebElement (session=\"73d10e931a17b5900490fe65c61250ae\", element=\"796dce79-f61d-422e-8ed8-0a2561ebcbd2\")>,\n",
       " <selenium.webdriver.remote.webelement.WebElement (session=\"73d10e931a17b5900490fe65c61250ae\", element=\"a8b099e7-62d3-425e-ba9a-84fc49f47526\")>,\n",
       " <selenium.webdriver.remote.webelement.WebElement (session=\"73d10e931a17b5900490fe65c61250ae\", element=\"9b973294-5760-42e9-9399-e51a873ae05a\")>,\n",
       " <selenium.webdriver.remote.webelement.WebElement (session=\"73d10e931a17b5900490fe65c61250ae\", element=\"9c97d440-97ef-4f4e-9164-2347e1232980\")>,\n",
       " <selenium.webdriver.remote.webelement.WebElement (session=\"73d10e931a17b5900490fe65c61250ae\", element=\"0972d527-ca30-45fe-a3d5-2aac701b7582\")>,\n",
       " <selenium.webdriver.remote.webelement.WebElement (session=\"73d10e931a17b5900490fe65c61250ae\", element=\"aed93172-3598-4d36-a378-2c62b70596c9\")>,\n",
       " <selenium.webdriver.remote.webelement.WebElement (session=\"73d10e931a17b5900490fe65c61250ae\", element=\"8624c168-d081-4902-af9f-c3880d26787e\")>,\n",
       " <selenium.webdriver.remote.webelement.WebElement (session=\"73d10e931a17b5900490fe65c61250ae\", element=\"6c1f8e79-6e38-4d38-852e-d0d8daadd375\")>,\n",
       " <selenium.webdriver.remote.webelement.WebElement (session=\"73d10e931a17b5900490fe65c61250ae\", element=\"e3ce596f-171c-4ffe-b715-80dd894be67e\")>,\n",
       " <selenium.webdriver.remote.webelement.WebElement (session=\"73d10e931a17b5900490fe65c61250ae\", element=\"5b61b62d-1d29-417f-8601-a7ee483bd72e\")>,\n",
       " <selenium.webdriver.remote.webelement.WebElement (session=\"73d10e931a17b5900490fe65c61250ae\", element=\"e06cde6e-9812-4976-8211-0283160596d0\")>,\n",
       " <selenium.webdriver.remote.webelement.WebElement (session=\"73d10e931a17b5900490fe65c61250ae\", element=\"a278a24b-8483-4980-87ed-b187fc83018d\")>,\n",
       " <selenium.webdriver.remote.webelement.WebElement (session=\"73d10e931a17b5900490fe65c61250ae\", element=\"6a702936-3d06-4e26-990e-985f8e732b54\")>,\n",
       " <selenium.webdriver.remote.webelement.WebElement (session=\"73d10e931a17b5900490fe65c61250ae\", element=\"dc1e6261-9943-46c8-aeae-35a6e4037110\")>,\n",
       " <selenium.webdriver.remote.webelement.WebElement (session=\"73d10e931a17b5900490fe65c61250ae\", element=\"af74ff0f-5993-4211-bdc3-ec89fd95b6cb\")>,\n",
       " <selenium.webdriver.remote.webelement.WebElement (session=\"73d10e931a17b5900490fe65c61250ae\", element=\"1002b32f-bd79-4f9d-a11e-9af5ff8fd5e7\")>,\n",
       " <selenium.webdriver.remote.webelement.WebElement (session=\"73d10e931a17b5900490fe65c61250ae\", element=\"9043c393-6db6-4fe1-a0fb-cffdbaaa1a32\")>,\n",
       " <selenium.webdriver.remote.webelement.WebElement (session=\"73d10e931a17b5900490fe65c61250ae\", element=\"5608d13d-cd23-4582-a5da-ffa8176258df\")>,\n",
       " <selenium.webdriver.remote.webelement.WebElement (session=\"73d10e931a17b5900490fe65c61250ae\", element=\"2e5fa558-0bae-46f7-b0b7-e1d68f46f223\")>,\n",
       " <selenium.webdriver.remote.webelement.WebElement (session=\"73d10e931a17b5900490fe65c61250ae\", element=\"afbdeaf2-4293-45ff-a152-8f670a9f06d4\")>,\n",
       " <selenium.webdriver.remote.webelement.WebElement (session=\"73d10e931a17b5900490fe65c61250ae\", element=\"a716b42d-5871-4a31-ac2f-f67162f51e50\")>,\n",
       " <selenium.webdriver.remote.webelement.WebElement (session=\"73d10e931a17b5900490fe65c61250ae\", element=\"f470cb29-afd9-4bb1-abf5-7df6ee5e9f08\")>,\n",
       " <selenium.webdriver.remote.webelement.WebElement (session=\"73d10e931a17b5900490fe65c61250ae\", element=\"2058bc1c-d933-43c9-b2d6-5c63d39674b4\")>,\n",
       " <selenium.webdriver.remote.webelement.WebElement (session=\"73d10e931a17b5900490fe65c61250ae\", element=\"ebcc3f0f-712c-4b14-ac1f-762b69a34782\")>,\n",
       " <selenium.webdriver.remote.webelement.WebElement (session=\"73d10e931a17b5900490fe65c61250ae\", element=\"a24fe132-32a3-4f50-9caa-878149084230\")>,\n",
       " <selenium.webdriver.remote.webelement.WebElement (session=\"73d10e931a17b5900490fe65c61250ae\", element=\"78dc8fbc-32a5-4196-acf6-b7b2fe9968b8\")>,\n",
       " <selenium.webdriver.remote.webelement.WebElement (session=\"73d10e931a17b5900490fe65c61250ae\", element=\"019ba155-0b32-4d10-a813-e399245077a2\")>,\n",
       " <selenium.webdriver.remote.webelement.WebElement (session=\"73d10e931a17b5900490fe65c61250ae\", element=\"698cc62c-4c5f-4d65-8188-02452380e799\")>,\n",
       " <selenium.webdriver.remote.webelement.WebElement (session=\"73d10e931a17b5900490fe65c61250ae\", element=\"e1a9b952-104c-40e1-bfea-7d3a6ebcf5cb\")>]"
      ]
     },
     "execution_count": 15,
     "metadata": {},
     "output_type": "execute_result"
    }
   ],
   "source": [
    "title_tags = browser.find_elements_by_xpath(\"//div[@class='dataTables_scrollHeadInner']\")\n",
    "title_tags"
   ]
  },
  {
   "cell_type": "code",
   "execution_count": 16,
   "metadata": {},
   "outputs": [],
   "source": [
    "titles=[]\n",
    "for i in title_tags:\n",
    "    title=i.text\n",
    "    titles.append(title)"
   ]
  },
  {
   "cell_type": "code",
   "execution_count": 17,
   "metadata": {},
   "outputs": [
    {
     "data": {
      "text/plain": [
       "[\"Sr. No. Date (dd/mm/yyyy) Startup Name Industry / Vertical Sub-Vertical City / Location Investors' Name Investment Type Amount (In USD)\",\n",
       " \"Sr. No. Date (dd/mm/yyyy) Startup Name Industry / Vertical Sub-Vertical City / Location Investors' Name Investment Type Amount (In USD)\"]"
      ]
     },
     "execution_count": 17,
     "metadata": {},
     "output_type": "execute_result"
    }
   ],
   "source": [
    "titles[7:9]\n"
   ]
  },
  {
   "cell_type": "code",
   "execution_count": null,
   "metadata": {},
   "outputs": [],
   "source": []
  }
 ],
 "metadata": {
  "kernelspec": {
   "display_name": "Python 3",
   "language": "python",
   "name": "python3"
  },
  "language_info": {
   "codemirror_mode": {
    "name": "ipython",
    "version": 3
   },
   "file_extension": ".py",
   "mimetype": "text/x-python",
   "name": "python",
   "nbconvert_exporter": "python",
   "pygments_lexer": "ipython3",
   "version": "3.8.5"
  }
 },
 "nbformat": 4,
 "nbformat_minor": 4
}
