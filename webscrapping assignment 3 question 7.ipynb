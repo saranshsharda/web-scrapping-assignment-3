{
 "cells": [
  {
   "cell_type": "markdown",
   "metadata": {},
   "source": [
    "Write a program to scrap all the available details of top 10 gaming laptops from digit.in."
   ]
  },
  {
   "cell_type": "code",
   "execution_count": 3,
   "metadata": {},
   "outputs": [],
   "source": [
    "import selenium # importing selenium\n",
    "from selenium import webdriver#importing webdriver\n",
    "from selenium.common.exceptions import StaleElementReferenceException, NoSuchElementException #importing exception\n",
    "import requests\n",
    "\n",
    "from selenium import webdriver\n",
    "from selenium.webdriver.chrome.options import Options\n",
    "from webdriver_manager.chrome import ChromeDriverManager\n"
   ]
  },
  {
   "cell_type": "code",
   "execution_count": 4,
   "metadata": {},
   "outputs": [
    {
     "name": "stderr",
     "output_type": "stream",
     "text": [
      "\n",
      "\n",
      "====== WebDriver manager ======\n",
      "Current google-chrome version is 91.0.4472\n",
      "Get LATEST driver version for 91.0.4472\n",
      "Driver [C:\\Users\\HP\\.wdm\\drivers\\chromedriver\\win32\\91.0.4472.19\\chromedriver.exe] found in cache\n",
      "<ipython-input-4-18ef3fe09236>:4: DeprecationWarning: use options instead of chrome_options\n",
      "  browser = webdriver.Chrome(ChromeDriverManager().install(),chrome_options=opts)\n"
     ]
    }
   ],
   "source": [
    "import requests\n",
    "from selenium import webdriver\n",
    "opts = Options()\n",
    "browser = webdriver.Chrome(ChromeDriverManager().install(),chrome_options=opts)\n",
    "\n",
    "browser.get(\"https://www.digit.in/top-products/best-laptop-for-programmers-3575.html\")\n",
    "                  \n",
    "from bs4 import BeautifulSoup"
   ]
  },
  {
   "cell_type": "code",
   "execution_count": 5,
   "metadata": {},
   "outputs": [
    {
     "data": {
      "text/plain": [
       "[<selenium.webdriver.remote.webelement.WebElement (session=\"74fe7505c1629f95152caf0111c434d8\", element=\"bc35e2fe-d5f3-4359-a447-bd9c7985c4d9\")>,\n",
       " <selenium.webdriver.remote.webelement.WebElement (session=\"74fe7505c1629f95152caf0111c434d8\", element=\"6ac01b69-00e6-40d6-acc7-9243bfd2720d\")>,\n",
       " <selenium.webdriver.remote.webelement.WebElement (session=\"74fe7505c1629f95152caf0111c434d8\", element=\"aa89646b-d0a6-4e83-8287-6f927ccf8c74\")>,\n",
       " <selenium.webdriver.remote.webelement.WebElement (session=\"74fe7505c1629f95152caf0111c434d8\", element=\"f17e6715-e4e1-4615-b3cc-80bfbfe15675\")>,\n",
       " <selenium.webdriver.remote.webelement.WebElement (session=\"74fe7505c1629f95152caf0111c434d8\", element=\"586aac2d-3cd6-4421-84b0-7c7f877f0a7b\")>,\n",
       " <selenium.webdriver.remote.webelement.WebElement (session=\"74fe7505c1629f95152caf0111c434d8\", element=\"11443885-5228-463a-92fd-cd7559248874\")>,\n",
       " <selenium.webdriver.remote.webelement.WebElement (session=\"74fe7505c1629f95152caf0111c434d8\", element=\"7514f908-f16f-43bc-8a55-37fb19491c2e\")>,\n",
       " <selenium.webdriver.remote.webelement.WebElement (session=\"74fe7505c1629f95152caf0111c434d8\", element=\"c75a7f02-9d3d-4882-ae65-98fbc17d80d6\")>,\n",
       " <selenium.webdriver.remote.webelement.WebElement (session=\"74fe7505c1629f95152caf0111c434d8\", element=\"7f770165-b190-4491-9d0c-decfe2b5e636\")>,\n",
       " <selenium.webdriver.remote.webelement.WebElement (session=\"74fe7505c1629f95152caf0111c434d8\", element=\"48cc0d38-de9e-4e2f-8c94-4be24bc7c838\")>]"
      ]
     },
     "execution_count": 5,
     "metadata": {},
     "output_type": "execute_result"
    }
   ],
   "source": [
    "\n",
    "title_tags = browser.find_elements_by_xpath(\"//div[@class='TopNumbeHeading active sticky-footer']\")\n",
    "title_tags"
   ]
  },
  {
   "cell_type": "code",
   "execution_count": 6,
   "metadata": {},
   "outputs": [],
   "source": [
    "titles=[]\n",
    "for i in title_tags:\n",
    "    title=i.text\n",
    "    titles.append(title)"
   ]
  },
  {
   "cell_type": "code",
   "execution_count": 7,
   "metadata": {},
   "outputs": [
    {
     "data": {
      "text/plain": [
       "[<selenium.webdriver.remote.webelement.WebElement (session=\"74fe7505c1629f95152caf0111c434d8\", element=\"4a0d5f41-6836-4fee-b508-e31299583908\")>,\n",
       " <selenium.webdriver.remote.webelement.WebElement (session=\"74fe7505c1629f95152caf0111c434d8\", element=\"91276cc2-fdf6-4aa7-8a4f-c1f9082c1049\")>,\n",
       " <selenium.webdriver.remote.webelement.WebElement (session=\"74fe7505c1629f95152caf0111c434d8\", element=\"bcee35c2-d036-4ad9-93a7-7d6bfdf12053\")>,\n",
       " <selenium.webdriver.remote.webelement.WebElement (session=\"74fe7505c1629f95152caf0111c434d8\", element=\"1258bcb8-625b-4ac3-85ee-378249d8167a\")>,\n",
       " <selenium.webdriver.remote.webelement.WebElement (session=\"74fe7505c1629f95152caf0111c434d8\", element=\"22eb7817-47b9-45c5-a391-6702a84bc3b7\")>,\n",
       " <selenium.webdriver.remote.webelement.WebElement (session=\"74fe7505c1629f95152caf0111c434d8\", element=\"42b5d2d6-dcf8-4736-8ca3-ce05c5f59827\")>,\n",
       " <selenium.webdriver.remote.webelement.WebElement (session=\"74fe7505c1629f95152caf0111c434d8\", element=\"840661fc-5852-4f2e-a157-f69a458a722b\")>,\n",
       " <selenium.webdriver.remote.webelement.WebElement (session=\"74fe7505c1629f95152caf0111c434d8\", element=\"c1338666-c4b3-4a6c-a428-8ec667a17e95\")>,\n",
       " <selenium.webdriver.remote.webelement.WebElement (session=\"74fe7505c1629f95152caf0111c434d8\", element=\"ebeacf66-842f-48d7-ade6-dff300253178\")>,\n",
       " <selenium.webdriver.remote.webelement.WebElement (session=\"74fe7505c1629f95152caf0111c434d8\", element=\"845dbb2f-3dea-4a20-b6c8-5bfdd59f70bd\")>]"
      ]
     },
     "execution_count": 7,
     "metadata": {},
     "output_type": "execute_result"
    }
   ],
   "source": [
    "windows_tags = browser.find_elements_by_xpath(\"//div[@class='product-detail']\")\n",
    "windows_tags"
   ]
  },
  {
   "cell_type": "code",
   "execution_count": 8,
   "metadata": {},
   "outputs": [],
   "source": [
    "productdetail=[]\n",
    "for i in windows_tags:\n",
    "    wind=i.text\n",
    "    productdetail.append(wind)"
   ]
  },
  {
   "cell_type": "code",
   "execution_count": 9,
   "metadata": {},
   "outputs": [
    {
     "data": {
      "text/plain": [
       "['OS\\nNA\\nDISPLAY\\n13.3\" (2560 X 1600)\\nPROCESSOR\\nQUAD-CORE 8TH-GENERATION INTEL CORE I5 | 4.1 GHZ\\nMEMORY\\n256 GB SSD/8 GBGB DDR4\\nREAD REVIEW FULL SPECS OTHER APPLE LAPTOPS',\n",
       " 'OS\\nWINDOWS 10 HOME\\nDISPLAY\\n14 INCH\" (1920 X 1080)\\nPROCESSOR\\nRYZEN 5 4500U | 4.0GHZ\\nMEMORY\\n512 GB NVME/8 GBGB LPDDR4\\nFULL SPECS OTHER ACER LAPTOPS',\n",
       " 'OS\\nWINDOWS 10 HOME\\nDISPLAY\\n15.6\" (3840 X 2400)\\nPROCESSOR\\n10TH-GENERATION INTEL CORE I9-10885H | NA\\nMEMORY\\n256 GB SSD/16 GBGB DDR4\\nFULL SPECS OTHER DELL LAPTOPS',\n",
       " 'OS\\nIOS\\nDISPLAY\\n16\" (3072 X 1920)\\nPROCESSOR\\nINTEL CORE I9 8TH GEN | NA\\nMEMORY\\n512 GB SSD/16 GBGB DDR3\\nREAD REVIEW FULL SPECS OTHER APPLE LAPTOPS',\n",
       " 'OS\\nWINDOWS 10\\nDISPLAY\\n15\" (1920 X 1080)\\nPROCESSOR\\nINTEL I7-10750H 10TH GEN | 2.6 GHZ\\nMEMORY\\n1 TB SSD/16 GBGB DDR4\\nREAD REVIEW FULL SPECS OTHER HP LAPTOPS',\n",
       " 'OS\\nWINDOWS 10 HOME\\nDISPLAY\\n14\" (1920 X 1080)\\nPROCESSOR\\n8TH GEN INTEL CORE I5-8565U | 1.6 GHZ\\nMEMORY\\n512 GB SSD/12GB DDR4\\nFULL SPECS OTHER LENOVO LAPTOPS',\n",
       " 'OS\\nWINDOWS 10 HOME\\nDISPLAY\\n14\" (1920 X 1080)\\nPROCESSOR\\n10TH GEN INTEL CORE I5-1035G1 | 3.6 GHZ\\nMEMORY\\n512 GB SSD/8 GBGB DDR4\\nFULL SPECS OTHER ASUS LAPTOPS',\n",
       " 'OS\\nWINDOWS 10 PROFESSIONAL\\nDISPLAY\\n13.3\" (1920X1080)\\nPROCESSOR\\n8TH GEN INTEL CORE I5-8250U | 1.6GHZ\\nMEMORY\\n360 GB SSD/8 GBGB DDR4\\nREAD REVIEW FULL SPECS OTHER HP LAPTOPS',\n",
       " 'OS\\nWINDOWS 10 PRO CREATORS\\nDISPLAY\\n15\" (3240 X 2160)\\nPROCESSOR\\n8TH GEN INTEL® CORE™ I7-8650U | 4.2 GHZ\\nMEMORY\\n256GB, 512GB, 1TB SSD/16GB DDR3\\nFULL SPECS OTHER MICROSOFT LAPTOPS',\n",
       " 'OS\\nWINDOWS 10 HOME\\nDISPLAY\\n1\" (1920 X 1080)\\nPROCESSOR\\n10TH GEN INTEL CORE I5-10210U PROCESSOR | 1.6 GHZ\\nMEMORY\\n512GB SSD/8GB LPDDR3\\nFULL SPECS OTHER ASUS LAPTOPS']"
      ]
     },
     "execution_count": 9,
     "metadata": {},
     "output_type": "execute_result"
    }
   ],
   "source": [
    "productdetail\n"
   ]
  },
  {
   "cell_type": "code",
   "execution_count": 10,
   "metadata": {},
   "outputs": [],
   "source": [
    "urls=browser.find_elements_by_xpath(\"//div[@class='product-ickon']/img\")\n",
    "UR=[]\n",
    "for i in urls:\n",
    "    UR.append(i.get_attribute('src'))"
   ]
  },
  {
   "cell_type": "code",
   "execution_count": 11,
   "metadata": {},
   "outputs": [
    {
     "data": {
      "text/plain": [
       "['https://static.digit.in/product/thumb_157421_product_td_300.jpeg',\n",
       " 'https://www.digit.in/images/digit_topten_icon.png',\n",
       " 'https://www.digit.in/images/digit_topten_icon.png',\n",
       " 'https://www.digit.in/images/digit_topten_icon.png',\n",
       " 'https://www.digit.in/images/digit_topten_icon.png',\n",
       " 'https://www.digit.in/images/digit_topten_icon.png',\n",
       " 'https://www.digit.in/images/digit_topten_icon.png',\n",
       " 'https://www.digit.in/images/digit_topten_icon.png',\n",
       " 'https://www.digit.in/images/digit_topten_icon.png',\n",
       " 'https://www.digit.in/images/digit_topten_icon.png']"
      ]
     },
     "execution_count": 11,
     "metadata": {},
     "output_type": "execute_result"
    }
   ],
   "source": [
    "UR"
   ]
  },
  {
   "cell_type": "code",
   "execution_count": 12,
   "metadata": {},
   "outputs": [
    {
     "data": {
      "text/html": [
       "<div>\n",
       "<style scoped>\n",
       "    .dataframe tbody tr th:only-of-type {\n",
       "        vertical-align: middle;\n",
       "    }\n",
       "\n",
       "    .dataframe tbody tr th {\n",
       "        vertical-align: top;\n",
       "    }\n",
       "\n",
       "    .dataframe thead th {\n",
       "        text-align: right;\n",
       "    }\n",
       "</style>\n",
       "<table border=\"1\" class=\"dataframe\">\n",
       "  <thead>\n",
       "    <tr style=\"text-align: right;\">\n",
       "      <th></th>\n",
       "      <th>titles</th>\n",
       "      <th>productdetail</th>\n",
       "      <th>imageurl</th>\n",
       "    </tr>\n",
       "  </thead>\n",
       "  <tbody>\n",
       "    <tr>\n",
       "      <th>0</th>\n",
       "      <td>1.\\nAPPLE MACBOOK PRO 13-INCH</td>\n",
       "      <td>OS\\nNA\\nDISPLAY\\n13.3\" (2560 X 1600)\\nPROCESSO...</td>\n",
       "      <td>https://static.digit.in/product/thumb_157421_p...</td>\n",
       "    </tr>\n",
       "    <tr>\n",
       "      <th>1</th>\n",
       "      <td>2.\\nACER SWIFT 3</td>\n",
       "      <td>OS\\nWINDOWS 10 HOME\\nDISPLAY\\n14 INCH\" (1920 X...</td>\n",
       "      <td>https://www.digit.in/images/digit_topten_icon.png</td>\n",
       "    </tr>\n",
       "    <tr>\n",
       "      <th>2</th>\n",
       "      <td>3.\\nDELL XPS 15</td>\n",
       "      <td>OS\\nWINDOWS 10 HOME\\nDISPLAY\\n15.6\" (3840 X 24...</td>\n",
       "      <td>https://www.digit.in/images/digit_topten_icon.png</td>\n",
       "    </tr>\n",
       "    <tr>\n",
       "      <th>3</th>\n",
       "      <td>4.\\nAPPLE MACBOOK PRO 16-INCH</td>\n",
       "      <td>OS\\nIOS\\nDISPLAY\\n16\" (3072 X 1920)\\nPROCESSOR...</td>\n",
       "      <td>https://www.digit.in/images/digit_topten_icon.png</td>\n",
       "    </tr>\n",
       "    <tr>\n",
       "      <th>4</th>\n",
       "      <td>5.\\nHP ENVY 15</td>\n",
       "      <td>OS\\nWINDOWS 10\\nDISPLAY\\n15\" (1920 X 1080)\\nPR...</td>\n",
       "      <td>https://www.digit.in/images/digit_topten_icon.png</td>\n",
       "    </tr>\n",
       "    <tr>\n",
       "      <th>5</th>\n",
       "      <td>6.\\nLENOVO IDEAPAD S540</td>\n",
       "      <td>OS\\nWINDOWS 10 HOME\\nDISPLAY\\n14\" (1920 X 1080...</td>\n",
       "      <td>https://www.digit.in/images/digit_topten_icon.png</td>\n",
       "    </tr>\n",
       "    <tr>\n",
       "      <th>6</th>\n",
       "      <td>7.\\nASUS ZENBOOK 14</td>\n",
       "      <td>OS\\nWINDOWS 10 HOME\\nDISPLAY\\n14\" (1920 X 1080...</td>\n",
       "      <td>https://www.digit.in/images/digit_topten_icon.png</td>\n",
       "    </tr>\n",
       "    <tr>\n",
       "      <th>7</th>\n",
       "      <td>8.\\nHP SPECTRE X360</td>\n",
       "      <td>OS\\nWINDOWS 10 PROFESSIONAL\\nDISPLAY\\n13.3\" (1...</td>\n",
       "      <td>https://www.digit.in/images/digit_topten_icon.png</td>\n",
       "    </tr>\n",
       "    <tr>\n",
       "      <th>8</th>\n",
       "      <td>9.\\nMICROSOFT SURFACE BOOK 2</td>\n",
       "      <td>OS\\nWINDOWS 10 PRO CREATORS\\nDISPLAY\\n15\" (324...</td>\n",
       "      <td>https://www.digit.in/images/digit_topten_icon.png</td>\n",
       "    </tr>\n",
       "    <tr>\n",
       "      <th>9</th>\n",
       "      <td>10.\\nASUS ZENBOOK DUO</td>\n",
       "      <td>OS\\nWINDOWS 10 HOME\\nDISPLAY\\n1\" (1920 X 1080)...</td>\n",
       "      <td>https://www.digit.in/images/digit_topten_icon.png</td>\n",
       "    </tr>\n",
       "  </tbody>\n",
       "</table>\n",
       "</div>"
      ],
      "text/plain": [
       "                          titles  \\\n",
       "0  1.\\nAPPLE MACBOOK PRO 13-INCH   \n",
       "1               2.\\nACER SWIFT 3   \n",
       "2                3.\\nDELL XPS 15   \n",
       "3  4.\\nAPPLE MACBOOK PRO 16-INCH   \n",
       "4                 5.\\nHP ENVY 15   \n",
       "5        6.\\nLENOVO IDEAPAD S540   \n",
       "6            7.\\nASUS ZENBOOK 14   \n",
       "7            8.\\nHP SPECTRE X360   \n",
       "8   9.\\nMICROSOFT SURFACE BOOK 2   \n",
       "9          10.\\nASUS ZENBOOK DUO   \n",
       "\n",
       "                                       productdetail  \\\n",
       "0  OS\\nNA\\nDISPLAY\\n13.3\" (2560 X 1600)\\nPROCESSO...   \n",
       "1  OS\\nWINDOWS 10 HOME\\nDISPLAY\\n14 INCH\" (1920 X...   \n",
       "2  OS\\nWINDOWS 10 HOME\\nDISPLAY\\n15.6\" (3840 X 24...   \n",
       "3  OS\\nIOS\\nDISPLAY\\n16\" (3072 X 1920)\\nPROCESSOR...   \n",
       "4  OS\\nWINDOWS 10\\nDISPLAY\\n15\" (1920 X 1080)\\nPR...   \n",
       "5  OS\\nWINDOWS 10 HOME\\nDISPLAY\\n14\" (1920 X 1080...   \n",
       "6  OS\\nWINDOWS 10 HOME\\nDISPLAY\\n14\" (1920 X 1080...   \n",
       "7  OS\\nWINDOWS 10 PROFESSIONAL\\nDISPLAY\\n13.3\" (1...   \n",
       "8  OS\\nWINDOWS 10 PRO CREATORS\\nDISPLAY\\n15\" (324...   \n",
       "9  OS\\nWINDOWS 10 HOME\\nDISPLAY\\n1\" (1920 X 1080)...   \n",
       "\n",
       "                                            imageurl  \n",
       "0  https://static.digit.in/product/thumb_157421_p...  \n",
       "1  https://www.digit.in/images/digit_topten_icon.png  \n",
       "2  https://www.digit.in/images/digit_topten_icon.png  \n",
       "3  https://www.digit.in/images/digit_topten_icon.png  \n",
       "4  https://www.digit.in/images/digit_topten_icon.png  \n",
       "5  https://www.digit.in/images/digit_topten_icon.png  \n",
       "6  https://www.digit.in/images/digit_topten_icon.png  \n",
       "7  https://www.digit.in/images/digit_topten_icon.png  \n",
       "8  https://www.digit.in/images/digit_topten_icon.png  \n",
       "9  https://www.digit.in/images/digit_topten_icon.png  "
      ]
     },
     "execution_count": 12,
     "metadata": {},
     "output_type": "execute_result"
    }
   ],
   "source": [
    "import pandas as pd #for data visualization\n",
    "digit=pd.DataFrame({})\n",
    "digit['titles']=titles\n",
    "digit['productdetail']=productdetail\n",
    "digit['imageurl']=UR\n",
    "digit"
   ]
  },
  {
   "cell_type": "code",
   "execution_count": null,
   "metadata": {},
   "outputs": [],
   "source": []
  }
 ],
 "metadata": {
  "kernelspec": {
   "display_name": "Python 3",
   "language": "python",
   "name": "python3"
  }
 },
 "nbformat": 4,
 "nbformat_minor": 4
}
