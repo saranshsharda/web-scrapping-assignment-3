{
 "cells": [
  {
   "cell_type": "markdown",
   "metadata": {},
   "source": [
    "Write a python program to search for a smartphone(e.g.: Oneplus Nord, pixel 4A, etc.) on www.flipkart.com and scrape following details for all the search results displayed on 1st page. Details to be scraped: “Brand Name”, “Smartphone name”, “Colour”, “RAM”, “Storage(ROM)”, “Primary Camera”, “Secondary Camera”, “Display Size”, “Display Resolution”, “Processor”, “Processor Cores”, “Battery Capacity”, “Price”, “Product URL”. Incase if any of the details is missing then replace it by “- “. Save your results in a dataframe and CSV."
   ]
  },
  {
   "cell_type": "code",
   "execution_count": 50,
   "metadata": {},
   "outputs": [],
   "source": [
    "import selenium # importing selenium\n",
    "from selenium import webdriver#importing webdriver\n",
    "from selenium.common.exceptions import StaleElementReferenceException, NoSuchElementException #importing exception\n",
    "import requests\n",
    "from selenium import webdriver\n",
    "from selenium.webdriver.chrome.options import Options\n",
    "from webdriver_manager.chrome import ChromeDriverManager\n"
   ]
  },
  {
   "cell_type": "code",
   "execution_count": 51,
   "metadata": {},
   "outputs": [
    {
     "name": "stderr",
     "output_type": "stream",
     "text": [
      "\n",
      "\n",
      "====== WebDriver manager ======\n",
      "Current google-chrome version is 91.0.4472\n",
      "Get LATEST driver version for 91.0.4472\n",
      "Driver [C:\\Users\\HP\\.wdm\\drivers\\chromedriver\\win32\\91.0.4472.19\\chromedriver.exe] found in cache\n",
      "<ipython-input-51-111063c1eed3>:4: DeprecationWarning: use options instead of chrome_options\n",
      "  browser = webdriver.Chrome(ChromeDriverManager().install(),chrome_options=opts)\n"
     ]
    }
   ],
   "source": [
    "import requests\n",
    "from selenium import webdriver\n",
    "opts = Options()\n",
    "browser = webdriver.Chrome(ChromeDriverManager().install(),chrome_options=opts)\n",
    "\n",
    "browser.get(\"https://www.flipkart.com/\")\n",
    "                  \n",
    "from bs4 import BeautifulSoup"
   ]
  },
  {
   "cell_type": "code",
   "execution_count": 52,
   "metadata": {},
   "outputs": [],
   "source": [
    "#locating the search bar\n",
    "browser.find_element_by_xpath(\"//button[@class='_2KpZ6l _2doB4z']\").click() \n",
    "search_bar=browser.find_element_by_class_name('_3704LK')\n",
    "search_bar.clear()\n",
    "search_bar.send_keys('oneplus Nord, pixel 4A')"
   ]
  },
  {
   "cell_type": "code",
   "execution_count": 54,
   "metadata": {},
   "outputs": [],
   "source": [
    "button=browser.find_element_by_class_name('_34RNph')\n",
    "button.click()"
   ]
  },
  {
   "cell_type": "code",
   "execution_count": 55,
   "metadata": {},
   "outputs": [
    {
     "data": {
      "text/plain": [
       "[]"
      ]
     },
     "execution_count": 55,
     "metadata": {},
     "output_type": "execute_result"
    }
   ],
   "source": [
    "title_tags = browser.find_elements_by_xpath(\"//div[@class='TopNumbeHeading active sticky-footer']\")\n",
    "title_tags"
   ]
  },
  {
   "cell_type": "code",
   "execution_count": 56,
   "metadata": {},
   "outputs": [],
   "source": [
    "brand=[]\n",
    "brands=browser.find_elements_by_class_name('_4rR01T')\n",
    "for i in brands:\n",
    "    brand.append(i.text)"
   ]
  },
  {
   "cell_type": "code",
   "execution_count": 57,
   "metadata": {},
   "outputs": [
    {
     "data": {
      "text/plain": [
       "['Micromax CANVAS 2 PLUS (jet black, 32 GB)',\n",
       " 'Micromax Bharat 4 Plus (Black, 16 GB)',\n",
       " 'I Kall K 8 NEw / K-8Plus (Red, 16 GB)',\n",
       " 'SAMSUNG Galaxy S10 Plus (Ceramic White, 1 TB)',\n",
       " 'LAVA Pixel V2 Plus (Black, 16 GB)',\n",
       " 'LAVA Pixel V2 Plus (Black, 32 GB)',\n",
       " 'Reach Cogent+ (Orange, 8 GB)',\n",
       " 'Nokia 5.1 Plus (Blue, 64 GB)',\n",
       " 'Zopo Flash X Plus (Rose Gold, 32 GB)']"
      ]
     },
     "execution_count": 57,
     "metadata": {},
     "output_type": "execute_result"
    }
   ],
   "source": [
    "brand"
   ]
  },
  {
   "cell_type": "code",
   "execution_count": 58,
   "metadata": {},
   "outputs": [],
   "source": [
    "ratings=[]\n",
    "rating=browser.find_elements_by_class_name('_1lRcqv')#scraping description by class name = '_2mylT6'\n",
    "for i in rating:\n",
    "    ratings.append(i.text)"
   ]
  },
  {
   "cell_type": "code",
   "execution_count": 59,
   "metadata": {},
   "outputs": [
    {
     "data": {
      "text/plain": [
       "['3.7', '3.1', '3', '4.5', '3.6', '3.6', '3.4', '3.8', '3.2']"
      ]
     },
     "execution_count": 59,
     "metadata": {},
     "output_type": "execute_result"
    }
   ],
   "source": [
    "ratings\n"
   ]
  },
  {
   "cell_type": "code",
   "execution_count": 61,
   "metadata": {},
   "outputs": [],
   "source": [
    "rams=[]\n",
    "ram=browser.find_elements_by_xpath(\"//ul[@class='_1xgFaf']/li[1]\")# scraping the discount from the xpath\n",
    "for i in ram:\n",
    "    rams.append(i.text)"
   ]
  },
  {
   "cell_type": "code",
   "execution_count": 62,
   "metadata": {},
   "outputs": [
    {
     "data": {
      "text/plain": [
       "['3 GB RAM | 32 GB ROM',\n",
       " '2 GB RAM | 16 GB ROM',\n",
       " '2 GB RAM | 16 GB ROM',\n",
       " '12 GB RAM | 1 TB ROM | Expandable Upto 512 GB',\n",
       " '2 GB RAM | 16 GB ROM',\n",
       " '3 GB RAM | 32 GB ROM',\n",
       " '1 GB RAM | 8 GB ROM',\n",
       " '6 GB RAM | 64 GB ROM',\n",
       " '3 GB RAM | 32 GB ROM | Expandable Upto 128 GB']"
      ]
     },
     "execution_count": 62,
     "metadata": {},
     "output_type": "execute_result"
    }
   ],
   "source": [
    "rams"
   ]
  },
  {
   "cell_type": "code",
   "execution_count": 63,
   "metadata": {},
   "outputs": [],
   "source": [
    "inches=[]\n",
    "inch=browser.find_elements_by_xpath(\"//ul[@class='_1xgFaf']/li[2]\")# scraping the discount from the xpath\n",
    "for i in inch:\n",
    "    inches.append(i.text)"
   ]
  },
  {
   "cell_type": "code",
   "execution_count": 64,
   "metadata": {},
   "outputs": [
    {
     "data": {
      "text/plain": [
       "['14.48 cm (5.7 inch) Display',\n",
       " '12.7 cm (5 inch) Display',\n",
       " '13.97 cm (5.5 inch) Display',\n",
       " '16.26 cm (6.4 inch) Quad HD+ Display',\n",
       " '12.7 cm (5 inch) Display',\n",
       " '12.7 cm (5 inch) HD Display',\n",
       " '10.16 cm (4 inch) Display',\n",
       " '14.73 cm (5.8 inch) Display',\n",
       " '13.97 cm (5.5 inch) Full HD Display']"
      ]
     },
     "execution_count": 64,
     "metadata": {},
     "output_type": "execute_result"
    }
   ],
   "source": [
    "inches\n"
   ]
  },
  {
   "cell_type": "code",
   "execution_count": 65,
   "metadata": {},
   "outputs": [],
   "source": [
    "camera=[]\n",
    "cameras=browser.find_elements_by_xpath(\"//ul[@class='_1xgFaf']/li[3]\")# scraping the discount from the xpath\n",
    "for i in cameras:\n",
    "    camera.append(i.text)"
   ]
  },
  {
   "cell_type": "code",
   "execution_count": 66,
   "metadata": {},
   "outputs": [
    {
     "data": {
      "text/plain": [
       "['13MP Rear Camera',\n",
       " '8MP Rear Camera',\n",
       " '5MP Rear Camera',\n",
       " '16MP + 12MP | 10MP + 8MP Dual Front Camera',\n",
       " '13MP + 13MP | 5MP + 5MP Dual Front Camera',\n",
       " '13MP Rear Camera | 5MP Front Camera',\n",
       " '3.2MP Rear Camera',\n",
       " '13MP Rear Camera',\n",
       " '13MP Rear Camera | 8MP Front Camera']"
      ]
     },
     "execution_count": 66,
     "metadata": {},
     "output_type": "execute_result"
    }
   ],
   "source": [
    "camera"
   ]
  },
  {
   "cell_type": "code",
   "execution_count": 67,
   "metadata": {},
   "outputs": [],
   "source": [
    "battery=[]\n",
    "batteries=browser.find_elements_by_xpath(\"//ul[@class='_1xgFaf']/li[4]\")# scraping the discount from the xpath\n",
    "for i in batteries:\n",
    "    battery.append(i.text)"
   ]
  },
  {
   "cell_type": "code",
   "execution_count": 68,
   "metadata": {},
   "outputs": [
    {
     "data": {
      "text/plain": [
       "['4000 mAh Battery',\n",
       " '3000 mAh Battery',\n",
       " '2200 mAh Battery',\n",
       " '4100 mAh Lithium-ion Battery',\n",
       " '2500 mAh Battery',\n",
       " '2500 mAh Battery',\n",
       " '2000 mAh Battery',\n",
       " '3060 mAh Battery',\n",
       " '3100 mAh Battery']"
      ]
     },
     "execution_count": 68,
     "metadata": {},
     "output_type": "execute_result"
    }
   ],
   "source": [
    "battery\n"
   ]
  },
  {
   "cell_type": "code",
   "execution_count": 69,
   "metadata": {},
   "outputs": [],
   "source": [
    "warranty=[]\n",
    "warranties=browser.find_elements_by_xpath(\"//ul[@class='_1xgFaf']/li[5]\")# scraping the discount from the xpath\n",
    "for i in warranties:\n",
    "    warranty.append(i.text)"
   ]
  },
  {
   "cell_type": "code",
   "execution_count": 70,
   "metadata": {},
   "outputs": [
    {
     "data": {
      "text/plain": [
       "['1 year',\n",
       " 'NA',\n",
       " '1 Year manufacturing warranty for mobile and 6 Months for accessories',\n",
       " 'Exynos 9 9820 Processor',\n",
       " 'Brand Warranty of 1 Year Available for Mobile and 6 Months for Accessories',\n",
       " '6 Month Warranty',\n",
       " '1 Year Manufacturer Warranty',\n",
       " 'Brand Warranty of 1 Year Available for Mobile and 6 Months for Accessories',\n",
       " 'MT6753 64-bit Processor']"
      ]
     },
     "execution_count": 70,
     "metadata": {},
     "output_type": "execute_result"
    }
   ],
   "source": [
    "warranty"
   ]
  },
  {
   "cell_type": "code",
   "execution_count": 72,
   "metadata": {},
   "outputs": [],
   "source": [
    "price=[]\n",
    "prices=browser.find_elements_by_xpath(\"//div[@class='_30jeq3 _1_WHN1']\")# scraping the price from the xpath\n",
    "for i in prices:\n",
    "    price.append(i.text)"
   ]
  },
  {
   "cell_type": "code",
   "execution_count": 73,
   "metadata": {},
   "outputs": [
    {
     "data": {
      "text/plain": [
       "['₹8,499',\n",
       " '₹4,899',\n",
       " '₹4,170',\n",
       " '₹1,17,990',\n",
       " '₹6,199',\n",
       " '₹7,290',\n",
       " '₹2,290',\n",
       " '₹9,900',\n",
       " '₹4,949']"
      ]
     },
     "execution_count": 73,
     "metadata": {},
     "output_type": "execute_result"
    }
   ],
   "source": [
    "price"
   ]
  },
  {
   "cell_type": "code",
   "execution_count": 78,
   "metadata": {},
   "outputs": [],
   "source": [
    "import pandas as pd\n",
    "flipkart=pd.DataFrame({})\n",
    "flipkart['brand']=brand\n",
    "flipkart['ratings']=ratings\n",
    "flipkart['inches']=inches\n",
    "flipkart['camera']=camera\n",
    "flipkart['price']=price\n",
    "flipkart['Ram']=rams\n",
    "flipkart['battery']=battery\n",
    "flipkart['warranty']=warranty"
   ]
  },
  {
   "cell_type": "code",
   "execution_count": 79,
   "metadata": {},
   "outputs": [
    {
     "data": {
      "text/html": [
       "<div>\n",
       "<style scoped>\n",
       "    .dataframe tbody tr th:only-of-type {\n",
       "        vertical-align: middle;\n",
       "    }\n",
       "\n",
       "    .dataframe tbody tr th {\n",
       "        vertical-align: top;\n",
       "    }\n",
       "\n",
       "    .dataframe thead th {\n",
       "        text-align: right;\n",
       "    }\n",
       "</style>\n",
       "<table border=\"1\" class=\"dataframe\">\n",
       "  <thead>\n",
       "    <tr style=\"text-align: right;\">\n",
       "      <th></th>\n",
       "      <th>brand</th>\n",
       "      <th>ratings</th>\n",
       "      <th>inches</th>\n",
       "      <th>camera</th>\n",
       "      <th>price</th>\n",
       "      <th>Ram</th>\n",
       "      <th>battery</th>\n",
       "      <th>warranty</th>\n",
       "    </tr>\n",
       "  </thead>\n",
       "  <tbody>\n",
       "    <tr>\n",
       "      <th>0</th>\n",
       "      <td>Micromax CANVAS 2 PLUS (jet black, 32 GB)</td>\n",
       "      <td>3.7</td>\n",
       "      <td>14.48 cm (5.7 inch) Display</td>\n",
       "      <td>13MP Rear Camera</td>\n",
       "      <td>₹8,499</td>\n",
       "      <td>3 GB RAM | 32 GB ROM</td>\n",
       "      <td>4000 mAh Battery</td>\n",
       "      <td>1 year</td>\n",
       "    </tr>\n",
       "    <tr>\n",
       "      <th>1</th>\n",
       "      <td>Micromax Bharat 4 Plus (Black, 16 GB)</td>\n",
       "      <td>3.1</td>\n",
       "      <td>12.7 cm (5 inch) Display</td>\n",
       "      <td>8MP Rear Camera</td>\n",
       "      <td>₹4,899</td>\n",
       "      <td>2 GB RAM | 16 GB ROM</td>\n",
       "      <td>3000 mAh Battery</td>\n",
       "      <td>NA</td>\n",
       "    </tr>\n",
       "    <tr>\n",
       "      <th>2</th>\n",
       "      <td>I Kall K 8 NEw / K-8Plus (Red, 16 GB)</td>\n",
       "      <td>3</td>\n",
       "      <td>13.97 cm (5.5 inch) Display</td>\n",
       "      <td>5MP Rear Camera</td>\n",
       "      <td>₹4,170</td>\n",
       "      <td>2 GB RAM | 16 GB ROM</td>\n",
       "      <td>2200 mAh Battery</td>\n",
       "      <td>1 Year manufacturing warranty for mobile and 6...</td>\n",
       "    </tr>\n",
       "    <tr>\n",
       "      <th>3</th>\n",
       "      <td>SAMSUNG Galaxy S10 Plus (Ceramic White, 1 TB)</td>\n",
       "      <td>4.5</td>\n",
       "      <td>16.26 cm (6.4 inch) Quad HD+ Display</td>\n",
       "      <td>16MP + 12MP | 10MP + 8MP Dual Front Camera</td>\n",
       "      <td>₹1,17,990</td>\n",
       "      <td>12 GB RAM | 1 TB ROM | Expandable Upto 512 GB</td>\n",
       "      <td>4100 mAh Lithium-ion Battery</td>\n",
       "      <td>Exynos 9 9820 Processor</td>\n",
       "    </tr>\n",
       "    <tr>\n",
       "      <th>4</th>\n",
       "      <td>LAVA Pixel V2 Plus (Black, 16 GB)</td>\n",
       "      <td>3.6</td>\n",
       "      <td>12.7 cm (5 inch) Display</td>\n",
       "      <td>13MP + 13MP | 5MP + 5MP Dual Front Camera</td>\n",
       "      <td>₹6,199</td>\n",
       "      <td>2 GB RAM | 16 GB ROM</td>\n",
       "      <td>2500 mAh Battery</td>\n",
       "      <td>Brand Warranty of 1 Year Available for Mobile ...</td>\n",
       "    </tr>\n",
       "    <tr>\n",
       "      <th>5</th>\n",
       "      <td>LAVA Pixel V2 Plus (Black, 32 GB)</td>\n",
       "      <td>3.6</td>\n",
       "      <td>12.7 cm (5 inch) HD Display</td>\n",
       "      <td>13MP Rear Camera | 5MP Front Camera</td>\n",
       "      <td>₹7,290</td>\n",
       "      <td>3 GB RAM | 32 GB ROM</td>\n",
       "      <td>2500 mAh Battery</td>\n",
       "      <td>6 Month Warranty</td>\n",
       "    </tr>\n",
       "    <tr>\n",
       "      <th>6</th>\n",
       "      <td>Reach Cogent+ (Orange, 8 GB)</td>\n",
       "      <td>3.4</td>\n",
       "      <td>10.16 cm (4 inch) Display</td>\n",
       "      <td>3.2MP Rear Camera</td>\n",
       "      <td>₹2,290</td>\n",
       "      <td>1 GB RAM | 8 GB ROM</td>\n",
       "      <td>2000 mAh Battery</td>\n",
       "      <td>1 Year Manufacturer Warranty</td>\n",
       "    </tr>\n",
       "    <tr>\n",
       "      <th>7</th>\n",
       "      <td>Nokia 5.1 Plus (Blue, 64 GB)</td>\n",
       "      <td>3.8</td>\n",
       "      <td>14.73 cm (5.8 inch) Display</td>\n",
       "      <td>13MP Rear Camera</td>\n",
       "      <td>₹9,900</td>\n",
       "      <td>6 GB RAM | 64 GB ROM</td>\n",
       "      <td>3060 mAh Battery</td>\n",
       "      <td>Brand Warranty of 1 Year Available for Mobile ...</td>\n",
       "    </tr>\n",
       "    <tr>\n",
       "      <th>8</th>\n",
       "      <td>Zopo Flash X Plus (Rose Gold, 32 GB)</td>\n",
       "      <td>3.2</td>\n",
       "      <td>13.97 cm (5.5 inch) Full HD Display</td>\n",
       "      <td>13MP Rear Camera | 8MP Front Camera</td>\n",
       "      <td>₹4,949</td>\n",
       "      <td>3 GB RAM | 32 GB ROM | Expandable Upto 128 GB</td>\n",
       "      <td>3100 mAh Battery</td>\n",
       "      <td>MT6753 64-bit Processor</td>\n",
       "    </tr>\n",
       "  </tbody>\n",
       "</table>\n",
       "</div>"
      ],
      "text/plain": [
       "                                           brand ratings  \\\n",
       "0      Micromax CANVAS 2 PLUS (jet black, 32 GB)     3.7   \n",
       "1          Micromax Bharat 4 Plus (Black, 16 GB)     3.1   \n",
       "2          I Kall K 8 NEw / K-8Plus (Red, 16 GB)       3   \n",
       "3  SAMSUNG Galaxy S10 Plus (Ceramic White, 1 TB)     4.5   \n",
       "4              LAVA Pixel V2 Plus (Black, 16 GB)     3.6   \n",
       "5              LAVA Pixel V2 Plus (Black, 32 GB)     3.6   \n",
       "6                   Reach Cogent+ (Orange, 8 GB)     3.4   \n",
       "7                   Nokia 5.1 Plus (Blue, 64 GB)     3.8   \n",
       "8           Zopo Flash X Plus (Rose Gold, 32 GB)     3.2   \n",
       "\n",
       "                                 inches  \\\n",
       "0           14.48 cm (5.7 inch) Display   \n",
       "1              12.7 cm (5 inch) Display   \n",
       "2           13.97 cm (5.5 inch) Display   \n",
       "3  16.26 cm (6.4 inch) Quad HD+ Display   \n",
       "4              12.7 cm (5 inch) Display   \n",
       "5           12.7 cm (5 inch) HD Display   \n",
       "6             10.16 cm (4 inch) Display   \n",
       "7           14.73 cm (5.8 inch) Display   \n",
       "8   13.97 cm (5.5 inch) Full HD Display   \n",
       "\n",
       "                                       camera      price  \\\n",
       "0                            13MP Rear Camera     ₹8,499   \n",
       "1                             8MP Rear Camera     ₹4,899   \n",
       "2                             5MP Rear Camera     ₹4,170   \n",
       "3  16MP + 12MP | 10MP + 8MP Dual Front Camera  ₹1,17,990   \n",
       "4   13MP + 13MP | 5MP + 5MP Dual Front Camera     ₹6,199   \n",
       "5         13MP Rear Camera | 5MP Front Camera     ₹7,290   \n",
       "6                           3.2MP Rear Camera     ₹2,290   \n",
       "7                            13MP Rear Camera     ₹9,900   \n",
       "8         13MP Rear Camera | 8MP Front Camera     ₹4,949   \n",
       "\n",
       "                                             Ram  \\\n",
       "0                           3 GB RAM | 32 GB ROM   \n",
       "1                           2 GB RAM | 16 GB ROM   \n",
       "2                           2 GB RAM | 16 GB ROM   \n",
       "3  12 GB RAM | 1 TB ROM | Expandable Upto 512 GB   \n",
       "4                           2 GB RAM | 16 GB ROM   \n",
       "5                           3 GB RAM | 32 GB ROM   \n",
       "6                            1 GB RAM | 8 GB ROM   \n",
       "7                           6 GB RAM | 64 GB ROM   \n",
       "8  3 GB RAM | 32 GB ROM | Expandable Upto 128 GB   \n",
       "\n",
       "                        battery  \\\n",
       "0              4000 mAh Battery   \n",
       "1              3000 mAh Battery   \n",
       "2              2200 mAh Battery   \n",
       "3  4100 mAh Lithium-ion Battery   \n",
       "4              2500 mAh Battery   \n",
       "5              2500 mAh Battery   \n",
       "6              2000 mAh Battery   \n",
       "7              3060 mAh Battery   \n",
       "8              3100 mAh Battery   \n",
       "\n",
       "                                            warranty  \n",
       "0                                             1 year  \n",
       "1                                                 NA  \n",
       "2  1 Year manufacturing warranty for mobile and 6...  \n",
       "3                            Exynos 9 9820 Processor  \n",
       "4  Brand Warranty of 1 Year Available for Mobile ...  \n",
       "5                                   6 Month Warranty  \n",
       "6                       1 Year Manufacturer Warranty  \n",
       "7  Brand Warranty of 1 Year Available for Mobile ...  \n",
       "8                            MT6753 64-bit Processor  "
      ]
     },
     "execution_count": 79,
     "metadata": {},
     "output_type": "execute_result"
    }
   ],
   "source": [
    "flipkart"
   ]
  },
  {
   "cell_type": "code",
   "execution_count": null,
   "metadata": {},
   "outputs": [],
   "source": []
  }
 ],
 "metadata": {
  "kernelspec": {
   "display_name": "Python 3",
   "language": "python",
   "name": "python3"
  },
  "language_info": {
   "codemirror_mode": {
    "name": "ipython",
    "version": 3
   },
   "file_extension": ".py",
   "mimetype": "text/x-python",
   "name": "python",
   "nbconvert_exporter": "python",
   "pygments_lexer": "ipython3",
   "version": "3.8.5"
  }
 },
 "nbformat": 4,
 "nbformat_minor": 4
}
